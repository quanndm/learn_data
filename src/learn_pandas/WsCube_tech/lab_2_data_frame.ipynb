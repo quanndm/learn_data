{
 "cells": [
  {
   "cell_type": "markdown",
   "id": "d247b7cc-092f-4f1b-bf41-d96c29b8e850",
   "metadata": {},
   "source": [
    "# Data frame"
   ]
  },
  {
   "cell_type": "code",
   "execution_count": 1,
   "id": "d051ad6e-67bf-42f7-b828-993230c89198",
   "metadata": {},
   "outputs": [],
   "source": [
    "import pandas as pd"
   ]
  },
  {
   "cell_type": "code",
   "execution_count": 2,
   "id": "fb041ef3-bc08-4e07-b825-36ca18a1779d",
   "metadata": {},
   "outputs": [
    {
     "name": "stdout",
     "output_type": "stream",
     "text": [
      "   0\n",
      "0  1\n",
      "1  2\n",
      "2  3\n",
      "3  4\n",
      "4  5\n",
      "5  6\n",
      "6  7\n",
      "7  8\n",
      "<class 'pandas.core.frame.DataFrame'>\n"
     ]
    }
   ],
   "source": [
    "list_1 = [1,2,3,4,5,6,7,8]\n",
    "\n",
    "df_1 = pd.DataFrame(list_1)\n",
    "print(df_1)\n",
    "print(type(df_1))"
   ]
  },
  {
   "cell_type": "code",
   "execution_count": 4,
   "id": "19b00f32-1b0f-43d9-b06d-86019e6ccb16",
   "metadata": {},
   "outputs": [
    {
     "name": "stdout",
     "output_type": "stream",
     "text": [
      "   a  s\n",
      "0  1  1\n",
      "1  2  2\n",
      "2  3  3\n",
      "3  4  4\n",
      "4  5  5\n",
      "5  6  6\n",
      "<class 'pandas.core.frame.DataFrame'>\n"
     ]
    }
   ],
   "source": [
    "dic = {\n",
    "    \"a\": [1,2,3,4,5,6],\n",
    "    \"s\" : [1,2,3,4,5, 6]\n",
    "}\n",
    "\n",
    "df_2 = pd.DataFrame(dic)\n",
    "print(df_2)\n",
    "print(type(df_2))"
   ]
  },
  {
   "cell_type": "code",
   "execution_count": 6,
   "id": "6cccc280-c37d-4668-ae73-1c1850aabc77",
   "metadata": {},
   "outputs": [
    {
     "name": "stdout",
     "output_type": "stream",
     "text": [
      "   a  s\n",
      "0  1  1\n",
      "1  2  2\n",
      "2  3  3\n",
      "3  4  4\n",
      "4  5  5\n",
      "5  6  6\n",
      "<class 'pandas.core.frame.DataFrame'>\n"
     ]
    }
   ],
   "source": [
    "dic_1 = {\n",
    "    \"a\": [1,2,3,4,5,6],\n",
    "    \"s\" : [1,2,3,4,5,6,7] # it will delete all of unuse data if not match structure\n",
    "}\n",
    "\n",
    "df_3 = pd.DataFrame(dic)\n",
    "print(df_3)\n",
    "print(type(df_3))"
   ]
  },
  {
   "cell_type": "code",
   "execution_count": 9,
   "id": "015a905b-9738-4b01-8528-9b4b49878675",
   "metadata": {},
   "outputs": [
    {
     "name": "stdout",
     "output_type": "stream",
     "text": [
      "   a  f\n",
      "0  1  1\n",
      "1  2  2\n",
      "2  3  3\n",
      "3  4  4\n",
      "4  5  5\n",
      "5  6  6\n",
      "<class 'pandas.core.frame.DataFrame'>\n"
     ]
    }
   ],
   "source": [
    "dic_2 = {\n",
    "    \"a\": [1,2,3,4,5,6],\n",
    "    \"s\" : [1,2,3,4,5,6],\n",
    "    \"f\": [1,2,3,4,5,6],\n",
    "    \"d\": [1,2,3,4,5,6]\n",
    "}\n",
    "\n",
    "df_4 = pd.DataFrame(dic_2, columns=[\"a\",\"f\"]) # only get column a and f to show on data frame\n",
    "print(df_4)\n",
    "print(type(df_4))"
   ]
  },
  {
   "cell_type": "code",
   "execution_count": 11,
   "id": "e20107f2-2bd7-4348-ace3-1ae73ee6df3b",
   "metadata": {},
   "outputs": [
    {
     "name": "stdout",
     "output_type": "stream",
     "text": [
      "   a  f\n",
      "a  1  1\n",
      "s  2  2\n",
      "d  3  3\n",
      "f  4  4\n",
      "g  5  5\n",
      "h  6  6\n",
      "<class 'pandas.core.frame.DataFrame'>\n"
     ]
    }
   ],
   "source": [
    "dic_2 = {\n",
    "    \"a\": [1,2,3,4,5,6],\n",
    "    \"s\" : [1,2,3,4,5,6],\n",
    "    \"f\": [1,2,3,4,5,6],\n",
    "    \"d\": [1,2,3,4,5,6]\n",
    "}\n",
    "\n",
    "df_4 = pd.DataFrame(dic_2, columns=[\"a\",\"f\"], index=[\"a\", \"s\", \"d\", \"f\", \"g\", \"h\"])\n",
    "print(df_4)\n",
    "print(type(df_4))"
   ]
  },
  {
   "cell_type": "code",
   "execution_count": 13,
   "id": "5b62461f-9093-4d62-b024-ed826fe15e90",
   "metadata": {},
   "outputs": [
    {
     "name": "stdout",
     "output_type": "stream",
     "text": [
      "   a  s  f  d\n",
      "0  1  1  1  1\n",
      "1  2  2  2  2\n",
      "2  3  3  3  3\n",
      "3  4  4  4  4\n",
      "4  5  5  5  5\n",
      "5  6  6  6  6\n",
      "<class 'pandas.core.frame.DataFrame'>\n",
      "4\n"
     ]
    }
   ],
   "source": [
    "dic_2 = {\n",
    "    \"a\": [1,2,3,4,5,6],\n",
    "    \"s\" : [1,2,3,4,5,6],\n",
    "    \"f\": [1,2,3,4,5,6],\n",
    "    \"d\": [1,2,3,4,5,6]\n",
    "}\n",
    "\n",
    "df_4 = pd.DataFrame(dic_2) # get all data to show on data frame\n",
    "print(df_4)\n",
    "print(type(df_4))\n",
    "print(df_4['s'][3])"
   ]
  },
  {
   "cell_type": "code",
   "execution_count": 14,
   "id": "8980f84b-26ce-4d3c-ad99-43a124e25352",
   "metadata": {},
   "outputs": [
    {
     "name": "stdout",
     "output_type": "stream",
     "text": [
      "    0   1   2   3   4\n",
      "0   1   2   3   4   5\n",
      "1  11  12  13  14  15\n",
      "<class 'pandas.core.frame.DataFrame'>\n"
     ]
    }
   ],
   "source": [
    "list_2_dimension = [[1,2,3,4,5], [11,12,13,14,15]]\n",
    "df_5 = pd.DataFrame(list_2_dimension) # create data frame from 2d array\n",
    "\n",
    "print(df_5)\n",
    "print(type(df_5))"
   ]
  },
  {
   "cell_type": "code",
   "execution_count": 15,
   "id": "2d84e2ac-3c08-47a7-9cb3-812b28216ba0",
   "metadata": {},
   "outputs": [
    {
     "name": "stdout",
     "output_type": "stream",
     "text": [
      "   s  f\n",
      "0  1  1\n",
      "1  2  2\n",
      "2  3  3\n",
      "3  4  4\n",
      "<class 'pandas.core.frame.DataFrame'>\n"
     ]
    }
   ],
   "source": [
    "dic_5 = {\n",
    "    \"s\": pd.Series([1,2,3,4]), \n",
    "    \"f\": pd.Series([1,2,3,4]), \n",
    "}\n",
    "df_6 = pd.DataFrame(dic_5) # create dataframe from dictionary of data series\n",
    "\n",
    "print(df_6)\n",
    "print(type(df_6))"
   ]
  },
  {
   "cell_type": "code",
   "execution_count": null,
   "id": "37788a7a-554b-435c-a671-ebf59b017950",
   "metadata": {},
   "outputs": [],
   "source": []
  }
 ],
 "metadata": {
  "kernelspec": {
   "display_name": "Python 3 (ipykernel)",
   "language": "python",
   "name": "python3"
  },
  "language_info": {
   "codemirror_mode": {
    "name": "ipython",
    "version": 3
   },
   "file_extension": ".py",
   "mimetype": "text/x-python",
   "name": "python",
   "nbconvert_exporter": "python",
   "pygments_lexer": "ipython3",
   "version": "3.11.4"
  }
 },
 "nbformat": 4,
 "nbformat_minor": 5
}
