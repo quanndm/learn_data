{
 "cells": [
  {
   "cell_type": "markdown",
   "id": "fb980ea5-72d9-4ecc-801b-14b5dd84efd1",
   "metadata": {},
   "source": [
    "# Series\n",
    "- Series: It is defined as a one-dimensional array that is capable of storing various data types"
   ]
  },
  {
   "cell_type": "code",
   "execution_count": 1,
   "id": "60ae6d48-75f8-479f-b7a9-0776d92e80a4",
   "metadata": {},
   "outputs": [],
   "source": [
    "import pandas as pd"
   ]
  },
  {
   "cell_type": "code",
   "execution_count": 4,
   "id": "e16038a7-33a8-4d20-82c9-40d7f88c55ac",
   "metadata": {},
   "outputs": [
    {
     "name": "stdout",
     "output_type": "stream",
     "text": [
      "0    3\n",
      "1    4\n",
      "2    5\n",
      "3    6\n",
      "4    7\n",
      "5    8\n",
      "dtype: int64\n",
      "<class 'pandas.core.series.Series'>\n"
     ]
    }
   ],
   "source": [
    "x = [3,4,5,6,7,8]\n",
    "\n",
    "sr = pd.Series(x)\n",
    "\n",
    "print(sr)\n",
    "print(type(sr))"
   ]
  },
  {
   "cell_type": "code",
   "execution_count": 5,
   "id": "9fe68dfd-094f-4970-acf9-eb21d591cd2e",
   "metadata": {},
   "outputs": [
    {
     "data": {
      "text/plain": [
       "4"
      ]
     },
     "execution_count": 5,
     "metadata": {},
     "output_type": "execute_result"
    }
   ],
   "source": [
    "sr[1]"
   ]
  },
  {
   "cell_type": "code",
   "execution_count": 8,
   "id": "810d198c-9806-48b1-b51e-b0be01085662",
   "metadata": {},
   "outputs": [
    {
     "data": {
      "text/plain": [
       "a    3\n",
       "b    4\n",
       "c    5\n",
       "d    6\n",
       "e    7\n",
       "f    8\n",
       "dtype: int64"
      ]
     },
     "execution_count": 8,
     "metadata": {},
     "output_type": "execute_result"
    }
   ],
   "source": [
    "sr = pd.Series(x, index=['a', 'b', 'c', 'd', 'e', 'f'])\n",
    "sr"
   ]
  },
  {
   "cell_type": "code",
   "execution_count": 9,
   "id": "5b11f53c-1809-4e46-b012-5b3853cfc962",
   "metadata": {},
   "outputs": [
    {
     "data": {
      "text/plain": [
       "a    3.0\n",
       "b    4.0\n",
       "c    5.0\n",
       "d    6.0\n",
       "e    7.0\n",
       "f    8.0\n",
       "dtype: float64"
      ]
     },
     "execution_count": 9,
     "metadata": {},
     "output_type": "execute_result"
    }
   ],
   "source": [
    "sr = pd.Series(x, index=['a', 'b', 'c', 'd', 'e', 'f'], dtype=\"float\")\n",
    "sr"
   ]
  },
  {
   "cell_type": "code",
   "execution_count": 13,
   "id": "57119909-3c12-4886-bd05-bbc64d2e95d4",
   "metadata": {},
   "outputs": [
    {
     "data": {
      "text/plain": [
       "a    3.0\n",
       "b    4.0\n",
       "c    5.0\n",
       "d    6.0\n",
       "e    7.0\n",
       "f    8.0\n",
       "Name: Learn series of pandas, dtype: float64"
      ]
     },
     "execution_count": 13,
     "metadata": {},
     "output_type": "execute_result"
    }
   ],
   "source": [
    "sr = pd.Series(x, index=['a', 'b', 'c', 'd', 'e', 'f'], dtype=\"float\", name='Learn series of pandas')\n",
    "sr"
   ]
  },
  {
   "cell_type": "code",
   "execution_count": 16,
   "id": "939e9eca-130c-4440-81cc-b8f12a936435",
   "metadata": {},
   "outputs": [
    {
     "data": {
      "text/plain": [
       "name    [python, c, c++, java]\n",
       "por           [12, 13, 14, 15]\n",
       "rank              [1, 4, 3, 2]\n",
       "dtype: object"
      ]
     },
     "execution_count": 16,
     "metadata": {},
     "output_type": "execute_result"
    }
   ],
   "source": [
    "dic = {\n",
    "    \"name\": [\"python\", \"c\", \"c++\", 'java'],\n",
    "    \"por\": [12,13,14,15],\n",
    "    \"rank\": [1,4,3,2]\n",
    "}\n",
    "sr_1 = pd.Series(dic)\n",
    "sr_1"
   ]
  },
  {
   "cell_type": "code",
   "execution_count": 18,
   "id": "2964a393-39dc-471e-be32-8a051505ab4b",
   "metadata": {},
   "outputs": [
    {
     "data": {
      "text/plain": [
       "0    12\n",
       "dtype: int64"
      ]
     },
     "execution_count": 18,
     "metadata": {},
     "output_type": "execute_result"
    }
   ],
   "source": [
    "sr_2 = pd.Series(12)\n",
    "sr_2"
   ]
  },
  {
   "cell_type": "code",
   "execution_count": 19,
   "id": "c7f64ff1-56a4-462d-9bf8-33d7c32bd6de",
   "metadata": {},
   "outputs": [
    {
     "data": {
      "text/plain": [
       "1    12\n",
       "2    12\n",
       "3    12\n",
       "4    12\n",
       "5    12\n",
       "6    12\n",
       "7    12\n",
       "8    12\n",
       "dtype: int64"
      ]
     },
     "execution_count": 19,
     "metadata": {},
     "output_type": "execute_result"
    }
   ],
   "source": [
    "sr_2 = pd.Series(12, index=[1,2,3,4,5,6,7,8])\n",
    "sr_2"
   ]
  },
  {
   "cell_type": "code",
   "execution_count": 20,
   "id": "376490d8-f3ef-4a9a-9e03-4600c34f3020",
   "metadata": {},
   "outputs": [
    {
     "data": {
      "text/plain": [
       "1    24.0\n",
       "2    24.0\n",
       "3    24.0\n",
       "4    24.0\n",
       "5     NaN\n",
       "6     NaN\n",
       "dtype: float64"
      ]
     },
     "execution_count": 20,
     "metadata": {},
     "output_type": "execute_result"
    }
   ],
   "source": [
    "s1 =  pd.Series(12, index=[1,2,3,4,5,6])\n",
    "s2 =  pd.Series(12, index=[1,2,3,4])\n",
    "\n",
    "s1+s2"
   ]
  },
  {
   "cell_type": "code",
   "execution_count": null,
   "id": "86a97609-3e88-452e-a4d2-751f35061c15",
   "metadata": {},
   "outputs": [],
   "source": []
  }
 ],
 "metadata": {
  "kernelspec": {
   "display_name": "Python 3 (ipykernel)",
   "language": "python",
   "name": "python3"
  },
  "language_info": {
   "codemirror_mode": {
    "name": "ipython",
    "version": 3
   },
   "file_extension": ".py",
   "mimetype": "text/x-python",
   "name": "python",
   "nbconvert_exporter": "python",
   "pygments_lexer": "ipython3",
   "version": "3.11.4"
  }
 },
 "nbformat": 4,
 "nbformat_minor": 5
}
