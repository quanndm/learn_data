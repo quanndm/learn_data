{
 "cells": [
  {
   "cell_type": "code",
   "execution_count": 1,
   "id": "13df52d6-75e9-4d6d-bab2-641a1bf888b4",
   "metadata": {},
   "outputs": [],
   "source": [
    "def linear_search(list, target):\n",
    "    \"\"\"\n",
    "    Returns the index of position of the target if found, else returns None\n",
    "    \"\"\"\n",
    "    length = len(list)\n",
    "    for i in range(0, length):\n",
    "        if list[i] == target:\n",
    "            return i\n",
    "    return None"
   ]
  },
  {
   "cell_type": "code",
   "execution_count": 2,
   "id": "82fd1aa7-04ec-4650-8a19-a601427bda42",
   "metadata": {},
   "outputs": [],
   "source": [
    "def verify(index):\n",
    "    if not (index is None):\n",
    "        print(f\"Target found at index: {index}\")\n",
    "    else:\n",
    "        print(\"Target not found in list!\")"
   ]
  },
  {
   "cell_type": "code",
   "execution_count": 4,
   "id": "cd94e8b0-2a2b-4f47-ba6f-47cc8c817ce8",
   "metadata": {},
   "outputs": [
    {
     "name": "stdout",
     "output_type": "stream",
     "text": [
      "Target not found in list!\n"
     ]
    }
   ],
   "source": [
    "numbers = [1,2,3,4,5,6,7,8,9]\n",
    "target = 12\n",
    "result_index = linear_search(numbers, target)\n",
    "verify(result_index)"
   ]
  }
 ],
 "metadata": {
  "kernelspec": {
   "display_name": "Python 3 (ipykernel)",
   "language": "python",
   "name": "python3"
  },
  "language_info": {
   "codemirror_mode": {
    "name": "ipython",
    "version": 3
   },
   "file_extension": ".py",
   "mimetype": "text/x-python",
   "name": "python",
   "nbconvert_exporter": "python",
   "pygments_lexer": "ipython3",
   "version": "3.10.12"
  }
 },
 "nbformat": 4,
 "nbformat_minor": 5
}
