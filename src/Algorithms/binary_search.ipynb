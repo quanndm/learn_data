{
 "cells": [
  {
   "cell_type": "code",
   "execution_count": 1,
   "id": "e7727159-de27-4c1a-a00a-9526c4fcf337",
   "metadata": {},
   "outputs": [],
   "source": [
    "# method 1: inplement binary search using loop\n",
    "def binary_search_loop(list, target):\n",
    "    first = 0\n",
    "    last = len(list) - 1\n",
    "\n",
    "    while first <= last:\n",
    "        mid = (first + last) //2\n",
    "        if list[mid] == target:\n",
    "            return mid\n",
    "        elif target > list[mid]:\n",
    "            first = mid + 1\n",
    "        else:\n",
    "            last = mid - 1\n",
    "\n",
    "    return None"
   ]
  },
  {
   "cell_type": "code",
   "execution_count": 4,
   "id": "eda166e3-14dc-49e5-9268-6a0f8d1cbf4b",
   "metadata": {},
   "outputs": [],
   "source": [
    "# method 2: implement binary search using recursive\n",
    "def binary_search_recursive(list, target):\n",
    "    pass"
   ]
  },
  {
   "cell_type": "code",
   "execution_count": 3,
   "id": "e8657fec-f376-49a4-a1f5-4455cfac23cd",
   "metadata": {},
   "outputs": [],
   "source": [
    "def verify(index):\n",
    "    if not (index is None):\n",
    "        print(f\"Target found at index: {index}\")\n",
    "    else:\n",
    "        print(\"Target not found in list!\")"
   ]
  },
  {
   "cell_type": "code",
   "execution_count": null,
   "id": "8bb155db-a024-43ae-9d3b-9a2a27f957e8",
   "metadata": {},
   "outputs": [],
   "source": []
  }
 ],
 "metadata": {
  "kernelspec": {
   "display_name": "Python 3 (ipykernel)",
   "language": "python",
   "name": "python3"
  },
  "language_info": {
   "codemirror_mode": {
    "name": "ipython",
    "version": 3
   },
   "file_extension": ".py",
   "mimetype": "text/x-python",
   "name": "python",
   "nbconvert_exporter": "python",
   "pygments_lexer": "ipython3",
   "version": "3.10.12"
  }
 },
 "nbformat": 4,
 "nbformat_minor": 5
}
